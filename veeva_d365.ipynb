{
 "cells": [
  {
   "cell_type": "code",
   "execution_count": 18,
   "id": "844d0d92",
   "metadata": {},
   "outputs": [],
   "source": [
    "import requests\n",
    "import pandas as pd\n",
    "import json,os\n",
    "import requests\n",
    "import pandas as pd\n",
    "import json\n",
    "from tqdm import tqdm\n",
    "from concurrent.futures import ThreadPoolExecutor, as_completed\n",
    "#sharepoint dev site\n",
    "tenant_id = os.getenv('TENANT_ID')\n",
    "client_id = os.getenv('CLIENT_ID')\n",
    "client_secret = os.getenv('CLIENT_SECRET')\n",
    "\n",
    "# Token endpoint\n",
    "url = f\"https://login.microsoftonline.com/{tenant_id}/oauth2/v2.0/token\"\n",
    "\n",
    "# Get token for Microsoft Graph\n",
    "data = {\n",
    "    'grant_type': 'client_credentials',\n",
    "    'client_id': client_id,\n",
    "    'client_secret': client_secret,\n",
    "    'scope': 'https://graph.microsoft.com/.default'\n",
    "}\n",
    "\n",
    "token_response = requests.post(url, data=data)\n",
    "access_token = token_response.json()['access_token']\n",
    "\n",
    "veeva_headers = {\n",
    "    'Authorization': '053C78ACD9A27EA36A32FAAC65F3CE72A78B97F7AA9176ED933313F362FD0024132D77598543F2502C16BF103E3A09D2D35814FABAF972DDA2F6FF59086E5918',  # Add your token\n",
    "    'Content-Type': 'application/x-www-form-urlencoded',\n",
    "}\n",
    "sp_headers = {\n",
    "        'Authorization': f'Bearer {access_token}',  \n",
    "        'Content-Type': 'application/octet-stream'\n",
    "        }\n",
    "LOCAL_DOWNLOAD_PATH = './'"
   ]
  },
  {
   "cell_type": "markdown",
   "id": "c8be4616",
   "metadata": {},
   "source": [
    "Upload Testing into Sharepoint"
   ]
  },
  {
   "cell_type": "code",
   "execution_count": null,
   "id": "4836405e",
   "metadata": {},
   "outputs": [
    {
     "name": "stdout",
     "output_type": "stream",
     "text": [
      "file_response.statuscode:200\n"
     ]
    }
   ],
   "source": [
    "file_download_url = f\"https://sb-envu-deployment.veevavault.com/api/v24.2/objects/documents/25102/file\"\n",
    "file_name = 'Label_Albania_Finnish111.docx'\n",
    "file_response = requests.get(url=file_download_url,headers=veeva_headers)\n",
    "\n",
    "print(f\"file_response.statuscode:{file_response.status_code}\")\n",
    "drive_id = 'b!wo3sBA26VUyRp2CMZopLbM3kX6cO3U5KvGeckT3yjRGApZ-K82XyQLCxWq_PAK6q'\n",
    "folder_name = 'Shared Documents'\n",
    "folder_name_encoded = folder_name.replace(\" \", \"%20\") if folder_name else \"\"\n",
    "\n",
    "\n",
    "\n",
    "upload_url  = f\"https://graph.microsoft.com/v1.0/drives/{drive_id}/root:/{file_name}:/content\"\n",
    "upload_response  = requests.put(upload_url , headers=sp_headers, data=file_response.content)"
   ]
  },
  {
   "cell_type": "markdown",
   "id": "ba710153",
   "metadata": {},
   "source": [
    "to lists all drives in a site"
   ]
  },
  {
   "cell_type": "code",
   "execution_count": null,
   "id": "3d83c051",
   "metadata": {},
   "outputs": [],
   "source": [
    "update_url = \"https://graph.microsoft.com/v1.0/sites/envu.sharepoint.com:/sites/EnvuSpecificationsProd:/drives\"\n",
    "\n",
    "document_info = []\n",
    "upload_response  = requests.get(update_url , headers=sp_headers)\n",
    "print(json.dumps(upload_response.json(),indent=3))"
   ]
  },
  {
   "cell_type": "markdown",
   "id": "23c0f35e",
   "metadata": {},
   "source": [
    "To lists all Files and metadata for  a perticular Drive ID"
   ]
  },
  {
   "cell_type": "code",
   "execution_count": null,
   "id": "1e8892bc",
   "metadata": {},
   "outputs": [],
   "source": [
    "drive_id = 'b!wo3sBA26VUyRp2CMZopLbM3kX6cO3U5KvGeckT3yjRGApZ-K82XyQLCxWq_PAK6q'\n",
    "url = f\"https://graph.microsoft.com/v1.0/drives/{drive_id}/root/children\"\n",
    "sp_headers = {\n",
    "    'Authorization': f'Bearer {access_token}',\n",
    "    'Content-Type': 'application/json'\n",
    "}\n",
    "upload_response  = requests.get(url , headers=sp_headers)\n",
    "print(json.dumps(upload_response.json(),indent=3))\n"
   ]
  },
  {
   "cell_type": "markdown",
   "id": "fc4f3fe8",
   "metadata": {},
   "source": [
    "To list all Fields for a perticular item_id (File ID)"
   ]
  },
  {
   "cell_type": "code",
   "execution_count": null,
   "id": "b3d7a82a",
   "metadata": {},
   "outputs": [],
   "source": [
    "item_id = '01S4YKXPJFONBX6LMNDJEJVMGVBFB23RIP'\n",
    "drive_id = 'b!wo3sBA26VUyRp2CMZopLbM3kX6cO3U5KvGeckT3yjRGApZ-K82XyQLCxWq_PAK6q'\n",
    "fields_url = f\"https://graph.microsoft.com/v1.0/drives/{drive_id}/items/{item_id}/listItem/fields\"\n",
    "sp_headers = {\n",
    "    'Authorization': f'Bearer {access_token}',\n",
    "    'Content-Type': 'application/json'\n",
    "}\n",
    "upload_response  = requests.get(fields_url , headers=sp_headers)\n",
    "print(json.dumps(upload_response.json(),indent=3))"
   ]
  },
  {
   "cell_type": "markdown",
   "id": "b5ff4320",
   "metadata": {},
   "source": [
    "Excel Preparation"
   ]
  },
  {
   "cell_type": "code",
   "execution_count": null,
   "id": "a9916e1e",
   "metadata": {},
   "outputs": [],
   "source": [
    "import requests\n",
    "import pandas as pd\n",
    "import json\n",
    "\n",
    "drive_id = 'b!wo3sBA26VUyRp2CMZopLbM3kX6cO3U5KvGeckT3yjRGApZ-K82XyQLCxWq_PAK6q'\n",
    "url = f\"https://graph.microsoft.com/v1.0/drives/{drive_id}/root/children\"\n",
    "sp_headers = {\n",
    "    'Authorization': f'Bearer {access_token}',\n",
    "    'Content-Type': 'application/json'\n",
    "}\n",
    "\n",
    "document_info = []\n",
    "\n",
    "while url:\n",
    "    response = requests.get(url, headers=sp_headers).json()\n",
    "    items = response.get('value', [])\n",
    "    \n",
    "    for record in items:\n",
    "        internal_record = {\n",
    "            'id': record.get('id'),\n",
    "            'filename': record.get('name'),\n",
    "            'createdDateTime': record.get('createdDateTime'),\n",
    "            'lastModifiedDateTime': record.get('lastModifiedDateTime'),\n",
    "            'webUrl': record.get('webUrl')\n",
    "        }\n",
    "        document_info.append(internal_record)\n",
    "    \n",
    "    # Check for next page link\n",
    "    url = response.get('@odata.nextLink')\n",
    "\n",
    "# Convert to DataFrame\n",
    "document_df = pd.DataFrame(document_info)\n",
    "document_df = document_df[['id','webUrl']]\n",
    "\n",
    "print(f\"✅ Total documents fetched: {len(document_df)}\")\n",
    "document_df"
   ]
  },
  {
   "cell_type": "markdown",
   "id": "b2a39e03",
   "metadata": {},
   "source": [
    "MetaData of each file for above id's and weburl's"
   ]
  },
  {
   "cell_type": "code",
   "execution_count": null,
   "id": "f0a21646",
   "metadata": {},
   "outputs": [],
   "source": [
    "# Your existing document DataFrame with 'id' column\n",
    "ids = document_df['id'].tolist()\n",
    "\n",
    "drive_id = 'b!wo3sBA26VUyRp2CMZopLbM3kX6cO3U5KvGeckT3yjRGApZ-K82XyQLCxWq_PAK6q'\n",
    "sp_headers = {\n",
    "    'Authorization': f'Bearer {access_token}',\n",
    "    'Content-Type': 'application/json'\n",
    "}\n",
    "\n",
    "# Function to fetch one file’s metadata\n",
    "def fetch_fields(item_id):\n",
    "    fields_url = f\"https://graph.microsoft.com/v1.0/drives/{drive_id}/items/{item_id}/listItem/fields\"\n",
    "    try:\n",
    "        response = requests.get(fields_url, headers=sp_headers, timeout=10)\n",
    "        if response.status_code == 200:\n",
    "            fields = response.json()\n",
    "            return {\n",
    "                'id': item_id,\n",
    "                'SpecificationNumber': fields.get('SpecificationNumber'),\n",
    "                'filename': fields.get('FileName'),\n",
    "                'DocumentType': fields.get('DocumentType'),\n",
    "                'DocumentDescription': fields.get('DocumentDescription'),\n",
    "                'DocumentStatus': fields.get('DocumentStatus')\n",
    "            }\n",
    "        else:\n",
    "            return {'id': item_id, 'error': response.status_code}\n",
    "    except Exception as e:\n",
    "        return {'id': item_id, 'error': str(e)}\n",
    "\n",
    "# Use a thread pool for concurrency\n",
    "meta_data = []\n",
    "with ThreadPoolExecutor(max_workers=20) as executor:  # You can tune max_workers (10–30 works well)\n",
    "    futures = {executor.submit(fetch_fields, i): i for i in ids}\n",
    "    for future in tqdm(as_completed(futures), total=len(futures), desc=\"Fetching metadata\"):\n",
    "        meta_data.append(future.result())\n",
    "\n",
    "# Convert to DataFrame\n",
    "meta_data_df = pd.DataFrame(meta_data)\n",
    "print(meta_data_df.head())\n"
   ]
  },
  {
   "cell_type": "code",
   "execution_count": null,
   "id": "9865a92f",
   "metadata": {},
   "outputs": [],
   "source": [
    "merge_df = pd.merge(document_df,meta_data_df,on='id',how='left')\n",
    "merge_df = merge_df[['SpecificationNumber','filename','DocumentType','DocumentDescription','DocumentStatus','webUrl']]\n",
    "merge_df.rename(columns={'filename': 'FileName', 'webUrl': 'Document URL'}, inplace=True)\n",
    "merge_df.to_excel('SharepointLinkUpdateUAT.xlsx',index=False)"
   ]
  }
 ],
 "metadata": {
  "kernelspec": {
   "display_name": "Python 3",
   "language": "python",
   "name": "python3"
  },
  "language_info": {
   "codemirror_mode": {
    "name": "ipython",
    "version": 3
   },
   "file_extension": ".py",
   "mimetype": "text/x-python",
   "name": "python",
   "nbconvert_exporter": "python",
   "pygments_lexer": "ipython3",
   "version": "3.10.0"
  }
 },
 "nbformat": 4,
 "nbformat_minor": 5
}
